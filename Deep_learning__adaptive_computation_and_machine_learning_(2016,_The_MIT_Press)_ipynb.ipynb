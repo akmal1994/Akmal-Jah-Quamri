{
  "nbformat": 4,
  "nbformat_minor": 0,
  "metadata": {
    "kernelspec": {
      "display_name": "Python 3",
      "language": "python",
      "name": "python3"
    },
    "language_info": {
      "codemirror_mode": {
        "name": "ipython",
        "version": 3
      },
      "file_extension": ".py",
      "mimetype": "text/x-python",
      "name": "python",
      "nbconvert_exporter": "python",
      "pygments_lexer": "ipython3",
      "version": "3.8.5"
    },
    "colab": {
      "name": "Deep learning_ adaptive computation and machine learning (2016, The MIT Press).ipynb.ipynb",
      "provenance": [],
      "include_colab_link": true
    }
  },
  "cells": [
    {
      "cell_type": "markdown",
      "metadata": {
        "id": "view-in-github",
        "colab_type": "text"
      },
      "source": [
        "<a href=\"https://colab.research.google.com/github/akmal1994/Akmal-Jah-Quamri/blob/master/Deep_learning__adaptive_computation_and_machine_learning_(2016%2C_The_MIT_Press)_ipynb.ipynb\" target=\"_parent\"><img src=\"https://colab.research.google.com/assets/colab-badge.svg\" alt=\"Open In Colab\"/></a>"
      ]
    },
    {
      "cell_type": "code",
      "metadata": {
        "id": "qUrkdK_Xs4rs"
      },
      "source": [
        "from PyPDF2 import PdfFileReader, PdfFileWriter"
      ],
      "execution_count": null,
      "outputs": []
    },
    {
      "cell_type": "code",
      "metadata": {
        "id": "38RC6abWs4rz"
      },
      "source": [
        "# Open the current pdf\n",
        "file_pdf=PdfFileReader('Deep learning_ adaptive computation and machine learning (2016, The MIT Press).pdf')\n",
        "\n",
        "# Object for pdf writer\n",
        "out_pdf=PdfFileWriter()"
      ],
      "execution_count": null,
      "outputs": []
    },
    {
      "cell_type": "code",
      "metadata": {
        "id": "CfGwSG-Hs4r3",
        "outputId": "11d4abde-2340-4552-ed9f-2dc8d6677e0a"
      },
      "source": [
        "file_pdf"
      ],
      "execution_count": null,
      "outputs": [
        {
          "output_type": "execute_result",
          "data": {
            "text/plain": [
              "<PyPDF2.pdf.PdfFileReader at 0x22d2706c4f0>"
            ]
          },
          "metadata": {
            "tags": []
          },
          "execution_count": 3
        }
      ]
    },
    {
      "cell_type": "code",
      "metadata": {
        "id": "Z3PSbKiSs4r4",
        "outputId": "b5180068-9284-4dda-b681-442c3375e69e"
      },
      "source": [
        "# number of pages on the pdf file\n",
        "file_pdf.numPages"
      ],
      "execution_count": null,
      "outputs": [
        {
          "output_type": "execute_result",
          "data": {
            "text/plain": [
              "801"
            ]
          },
          "metadata": {
            "tags": []
          },
          "execution_count": 5
        }
      ]
    },
    {
      "cell_type": "code",
      "metadata": {
        "id": "lZpWMsb1s4r5"
      },
      "source": [
        "for i in range(file_pdf.numPages):\n",
        "    page_details=file_pdf.getPage(i)\n",
        "    # Add to the output page\n",
        "    out_pdf.addPage(page_details)"
      ],
      "execution_count": null,
      "outputs": []
    },
    {
      "cell_type": "code",
      "metadata": {
        "id": "i33B9gUes4r5"
      },
      "source": [
        "password='MASIH@akmal18'\n",
        "out_pdf.encrypt(password)"
      ],
      "execution_count": null,
      "outputs": []
    },
    {
      "cell_type": "code",
      "metadata": {
        "id": "TT0BsjDWs4r5"
      },
      "source": [
        "with open('ENC_Deep learning_ adaptive computation and machine learning (2016, The MIT Press).pdf','wb') as filename:\n",
        "    out_pdf.write(filename)"
      ],
      "execution_count": null,
      "outputs": []
    },
    {
      "cell_type": "code",
      "metadata": {
        "id": "9GKKYNfss4r5"
      },
      "source": [
        ""
      ],
      "execution_count": null,
      "outputs": []
    }
  ]
}