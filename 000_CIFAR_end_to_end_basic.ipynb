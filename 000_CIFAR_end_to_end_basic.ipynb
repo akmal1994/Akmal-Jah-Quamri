{
  "nbformat": 4,
  "nbformat_minor": 0,
  "metadata": {
    "kernelspec": {
      "display_name": "Python 3",
      "language": "python",
      "name": "python3"
    },
    "language_info": {
      "codemirror_mode": {
        "name": "ipython",
        "version": 3
      },
      "file_extension": ".py",
      "mimetype": "text/x-python",
      "name": "python",
      "nbconvert_exporter": "python",
      "pygments_lexer": "ipython3",
      "version": "3.8.3"
    },
    "colab": {
      "name": "000 CIFAR end to end basic.ipynb",
      "provenance": [],
      "collapsed_sections": [],
      "include_colab_link": true
    },
    "accelerator": "GPU"
  },
  "cells": [
    {
      "cell_type": "markdown",
      "metadata": {
        "id": "view-in-github",
        "colab_type": "text"
      },
      "source": [
        "<a href=\"https://colab.research.google.com/github/akmal1994/Akmal-Jah-Quamri/blob/master/000_CIFAR_end_to_end_basic.ipynb\" target=\"_parent\"><img src=\"https://colab.research.google.com/assets/colab-badge.svg\" alt=\"Open In Colab\"/></a>"
      ]
    },
    {
      "cell_type": "code",
      "metadata": {
        "id": "J-dQqQrwpCEu"
      },
      "source": [
        "import tensorflow as tf\n",
        "import numpy as np\n",
        "import pandas as pd\n",
        "import matplotlib.pyplot as plt\n",
        "import seaborn as sns\n",
        "sns.set()"
      ],
      "execution_count": 1,
      "outputs": []
    },
    {
      "cell_type": "code",
      "metadata": {
        "id": "Twaa-yQQpCEv"
      },
      "source": [
        "from tensorflow.keras.models import Sequential\n",
        "from tensorflow.keras.layers import Dense"
      ],
      "execution_count": 2,
      "outputs": []
    },
    {
      "cell_type": "code",
      "metadata": {
        "id": "SGk4VwBjpCEv"
      },
      "source": [
        "(X_train,y_train),(X_test,y_test)= tf.keras.datasets.cifar10.load_data()"
      ],
      "execution_count": 3,
      "outputs": []
    },
    {
      "cell_type": "code",
      "metadata": {
        "colab": {
          "base_uri": "https://localhost:8080/"
        },
        "id": "Cuj0l3OzpCEv",
        "outputId": "41ff1d0b-5f23-4dde-a4c2-07df3de2f1e1"
      },
      "source": [
        "X_train.shape"
      ],
      "execution_count": 4,
      "outputs": [
        {
          "output_type": "execute_result",
          "data": {
            "text/plain": [
              "(50000, 32, 32, 3)"
            ]
          },
          "metadata": {
            "tags": []
          },
          "execution_count": 4
        }
      ]
    },
    {
      "cell_type": "code",
      "metadata": {
        "id": "6Reyw2SQpCEw"
      },
      "source": [
        "X_train=X_train.astype('float64')/255\n",
        "X_test=X_test.astype('float64')/255"
      ],
      "execution_count": 5,
      "outputs": []
    },
    {
      "cell_type": "code",
      "metadata": {
        "colab": {
          "base_uri": "https://localhost:8080/"
        },
        "id": "6AG0RZk1pCEx",
        "outputId": "b117f973-0ae6-4b7f-9c7f-fe0bf534bfd9"
      },
      "source": [
        "X_train.shape"
      ],
      "execution_count": 6,
      "outputs": [
        {
          "output_type": "execute_result",
          "data": {
            "text/plain": [
              "(50000, 32, 32, 3)"
            ]
          },
          "metadata": {
            "tags": []
          },
          "execution_count": 6
        }
      ]
    },
    {
      "cell_type": "code",
      "metadata": {
        "id": "L2BeUucmpCEx"
      },
      "source": [
        "(y_train, y_valid) = y_train[5000:], y_train[:5000]\n",
        "(X_train, X_valid) = X_train[5000:], X_train[:5000]"
      ],
      "execution_count": 7,
      "outputs": []
    },
    {
      "cell_type": "code",
      "metadata": {
        "id": "5dCwOZ1zpCEy"
      },
      "source": [
        "from tensorflow.keras.models import Sequential\n",
        "from tensorflow.keras.layers import Dense\n",
        "from tensorflow.keras.layers import Dropout\n",
        "from tensorflow.keras.layers import Conv2D\n",
        "from tensorflow.keras.layers import MaxPooling2D\n",
        "from tensorflow.keras.layers import Flatten"
      ],
      "execution_count": 8,
      "outputs": []
    },
    {
      "cell_type": "code",
      "metadata": {
        "id": "uoRxcFYepCEy"
      },
      "source": [
        "model=Sequential()"
      ],
      "execution_count": 9,
      "outputs": []
    },
    {
      "cell_type": "code",
      "metadata": {
        "id": "5s552JUrpCEy"
      },
      "source": [
        "model.add(Conv2D(filters=16,kernel_size=3, strides=(2), padding='same', activation='relu',input_shape=(32,32,3)))\n",
        "model.add(MaxPooling2D(2))\n",
        "model.add(Conv2D(filters=16,kernel_size=3,activation='relu'))\n",
        "model.add(MaxPooling2D(2))"
      ],
      "execution_count": 10,
      "outputs": []
    },
    {
      "cell_type": "code",
      "metadata": {
        "id": "g9gQOO61pCEz"
      },
      "source": [
        "model.add(Flatten())"
      ],
      "execution_count": 11,
      "outputs": []
    },
    {
      "cell_type": "code",
      "metadata": {
        "id": "R0c3Vu-bpCEz"
      },
      "source": [
        "model.add(Dense(units=56,kernel_initializer='uniform',activation='relu'))\n",
        "\n",
        "model.add(Dense(units=112,kernel_initializer='uniform',activation='relu'))\n",
        "\n",
        "model.add(Dense(units=112,kernel_initializer='uniform',activation='relu'))"
      ],
      "execution_count": 12,
      "outputs": []
    },
    {
      "cell_type": "code",
      "metadata": {
        "id": "MZmOq9zFpCE0"
      },
      "source": [
        "model.add(Dense(units=10,kernel_initializer='uniform',activation='softmax'))"
      ],
      "execution_count": 13,
      "outputs": []
    },
    {
      "cell_type": "markdown",
      "metadata": {
        "id": "qXI3w5bwpCE0"
      },
      "source": [
        "### sparse_categorical_crossentropy as we don't have one hot encoded y labels"
      ]
    },
    {
      "cell_type": "code",
      "metadata": {
        "id": "OYhifosepCE0"
      },
      "source": [
        "model.compile(optimizer='adam',loss='sparse_categorical_crossentropy',\n",
        "              metrics=(['accuracy']))\n"
      ],
      "execution_count": 14,
      "outputs": []
    },
    {
      "cell_type": "code",
      "metadata": {
        "colab": {
          "base_uri": "https://localhost:8080/"
        },
        "id": "T2lYpBbSpCE1",
        "outputId": "90d2d629-1592-41c1-c0b0-b6c319a95836"
      },
      "source": [
        "history=model.fit(X_train,y_train,validation_data=(X_valid,y_valid),epochs=50,batch_size=100,verbose=2)"
      ],
      "execution_count": 15,
      "outputs": [
        {
          "output_type": "stream",
          "text": [
            "Epoch 1/50\n",
            "450/450 - 3s - loss: 1.9904 - accuracy: 0.2132 - val_loss: 1.7951 - val_accuracy: 0.2882\n",
            "Epoch 2/50\n",
            "450/450 - 1s - loss: 1.7439 - accuracy: 0.3157 - val_loss: 1.6635 - val_accuracy: 0.3552\n",
            "Epoch 3/50\n",
            "450/450 - 1s - loss: 1.6387 - accuracy: 0.3678 - val_loss: 1.5879 - val_accuracy: 0.3848\n",
            "Epoch 4/50\n",
            "450/450 - 1s - loss: 1.5443 - accuracy: 0.4091 - val_loss: 1.4992 - val_accuracy: 0.4322\n",
            "Epoch 5/50\n",
            "450/450 - 1s - loss: 1.4607 - accuracy: 0.4499 - val_loss: 1.4575 - val_accuracy: 0.4546\n",
            "Epoch 6/50\n",
            "450/450 - 1s - loss: 1.4050 - accuracy: 0.4724 - val_loss: 1.4056 - val_accuracy: 0.4774\n",
            "Epoch 7/50\n",
            "450/450 - 1s - loss: 1.3664 - accuracy: 0.4912 - val_loss: 1.3533 - val_accuracy: 0.4998\n",
            "Epoch 8/50\n",
            "450/450 - 1s - loss: 1.3269 - accuracy: 0.5096 - val_loss: 1.3588 - val_accuracy: 0.4958\n",
            "Epoch 9/50\n",
            "450/450 - 1s - loss: 1.2936 - accuracy: 0.5225 - val_loss: 1.2912 - val_accuracy: 0.5254\n",
            "Epoch 10/50\n",
            "450/450 - 1s - loss: 1.2666 - accuracy: 0.5328 - val_loss: 1.3134 - val_accuracy: 0.5124\n",
            "Epoch 11/50\n",
            "450/450 - 1s - loss: 1.2476 - accuracy: 0.5424 - val_loss: 1.2875 - val_accuracy: 0.5348\n",
            "Epoch 12/50\n",
            "450/450 - 1s - loss: 1.2220 - accuracy: 0.5507 - val_loss: 1.2619 - val_accuracy: 0.5480\n",
            "Epoch 13/50\n",
            "450/450 - 1s - loss: 1.2072 - accuracy: 0.5589 - val_loss: 1.2231 - val_accuracy: 0.5508\n",
            "Epoch 14/50\n",
            "450/450 - 1s - loss: 1.1924 - accuracy: 0.5656 - val_loss: 1.2287 - val_accuracy: 0.5472\n",
            "Epoch 15/50\n",
            "450/450 - 1s - loss: 1.1771 - accuracy: 0.5694 - val_loss: 1.2037 - val_accuracy: 0.5616\n",
            "Epoch 16/50\n",
            "450/450 - 1s - loss: 1.1553 - accuracy: 0.5796 - val_loss: 1.2131 - val_accuracy: 0.5636\n",
            "Epoch 17/50\n",
            "450/450 - 1s - loss: 1.1418 - accuracy: 0.5857 - val_loss: 1.2033 - val_accuracy: 0.5656\n",
            "Epoch 18/50\n",
            "450/450 - 1s - loss: 1.1314 - accuracy: 0.5895 - val_loss: 1.1587 - val_accuracy: 0.5786\n",
            "Epoch 19/50\n",
            "450/450 - 1s - loss: 1.1117 - accuracy: 0.5990 - val_loss: 1.1570 - val_accuracy: 0.5834\n",
            "Epoch 20/50\n",
            "450/450 - 1s - loss: 1.0956 - accuracy: 0.6055 - val_loss: 1.1607 - val_accuracy: 0.5856\n",
            "Epoch 21/50\n",
            "450/450 - 1s - loss: 1.0837 - accuracy: 0.6100 - val_loss: 1.1295 - val_accuracy: 0.5996\n",
            "Epoch 22/50\n",
            "450/450 - 1s - loss: 1.0786 - accuracy: 0.6125 - val_loss: 1.1273 - val_accuracy: 0.5982\n",
            "Epoch 23/50\n",
            "450/450 - 1s - loss: 1.0575 - accuracy: 0.6227 - val_loss: 1.1268 - val_accuracy: 0.5968\n",
            "Epoch 24/50\n",
            "450/450 - 1s - loss: 1.0472 - accuracy: 0.6242 - val_loss: 1.1254 - val_accuracy: 0.5998\n",
            "Epoch 25/50\n",
            "450/450 - 1s - loss: 1.0371 - accuracy: 0.6277 - val_loss: 1.1188 - val_accuracy: 0.6086\n",
            "Epoch 26/50\n",
            "450/450 - 1s - loss: 1.0276 - accuracy: 0.6337 - val_loss: 1.1300 - val_accuracy: 0.6014\n",
            "Epoch 27/50\n",
            "450/450 - 1s - loss: 1.0226 - accuracy: 0.6362 - val_loss: 1.0970 - val_accuracy: 0.6122\n",
            "Epoch 28/50\n",
            "450/450 - 1s - loss: 1.0101 - accuracy: 0.6407 - val_loss: 1.0950 - val_accuracy: 0.6142\n",
            "Epoch 29/50\n",
            "450/450 - 1s - loss: 0.9976 - accuracy: 0.6429 - val_loss: 1.0955 - val_accuracy: 0.6164\n",
            "Epoch 30/50\n",
            "450/450 - 1s - loss: 0.9888 - accuracy: 0.6483 - val_loss: 1.1024 - val_accuracy: 0.6104\n",
            "Epoch 31/50\n",
            "450/450 - 1s - loss: 0.9862 - accuracy: 0.6488 - val_loss: 1.0818 - val_accuracy: 0.6212\n",
            "Epoch 32/50\n",
            "450/450 - 1s - loss: 0.9763 - accuracy: 0.6524 - val_loss: 1.0573 - val_accuracy: 0.6328\n",
            "Epoch 33/50\n",
            "450/450 - 1s - loss: 0.9675 - accuracy: 0.6557 - val_loss: 1.0722 - val_accuracy: 0.6198\n",
            "Epoch 34/50\n",
            "450/450 - 1s - loss: 0.9625 - accuracy: 0.6576 - val_loss: 1.0546 - val_accuracy: 0.6338\n",
            "Epoch 35/50\n",
            "450/450 - 1s - loss: 0.9525 - accuracy: 0.6611 - val_loss: 1.0457 - val_accuracy: 0.6324\n",
            "Epoch 36/50\n",
            "450/450 - 1s - loss: 0.9447 - accuracy: 0.6632 - val_loss: 1.0777 - val_accuracy: 0.6252\n",
            "Epoch 37/50\n",
            "450/450 - 1s - loss: 0.9381 - accuracy: 0.6677 - val_loss: 1.0554 - val_accuracy: 0.6272\n",
            "Epoch 38/50\n",
            "450/450 - 1s - loss: 0.9267 - accuracy: 0.6708 - val_loss: 1.0499 - val_accuracy: 0.6314\n",
            "Epoch 39/50\n",
            "450/450 - 1s - loss: 0.9279 - accuracy: 0.6712 - val_loss: 1.0315 - val_accuracy: 0.6404\n",
            "Epoch 40/50\n",
            "450/450 - 1s - loss: 0.9122 - accuracy: 0.6781 - val_loss: 1.0510 - val_accuracy: 0.6330\n",
            "Epoch 41/50\n",
            "450/450 - 1s - loss: 0.9117 - accuracy: 0.6750 - val_loss: 1.0282 - val_accuracy: 0.6462\n",
            "Epoch 42/50\n",
            "450/450 - 1s - loss: 0.9029 - accuracy: 0.6793 - val_loss: 1.0274 - val_accuracy: 0.6430\n",
            "Epoch 43/50\n",
            "450/450 - 1s - loss: 0.9007 - accuracy: 0.6808 - val_loss: 1.0189 - val_accuracy: 0.6444\n",
            "Epoch 44/50\n",
            "450/450 - 1s - loss: 0.8920 - accuracy: 0.6832 - val_loss: 1.0157 - val_accuracy: 0.6506\n",
            "Epoch 45/50\n",
            "450/450 - 1s - loss: 0.8872 - accuracy: 0.6862 - val_loss: 1.0306 - val_accuracy: 0.6388\n",
            "Epoch 46/50\n",
            "450/450 - 1s - loss: 0.8850 - accuracy: 0.6875 - val_loss: 1.0328 - val_accuracy: 0.6428\n",
            "Epoch 47/50\n",
            "450/450 - 1s - loss: 0.8725 - accuracy: 0.6912 - val_loss: 1.0474 - val_accuracy: 0.6420\n",
            "Epoch 48/50\n",
            "450/450 - 1s - loss: 0.8708 - accuracy: 0.6907 - val_loss: 1.0408 - val_accuracy: 0.6382\n",
            "Epoch 49/50\n",
            "450/450 - 1s - loss: 0.8652 - accuracy: 0.6943 - val_loss: 1.0141 - val_accuracy: 0.6530\n",
            "Epoch 50/50\n",
            "450/450 - 1s - loss: 0.8641 - accuracy: 0.6943 - val_loss: 1.0441 - val_accuracy: 0.6428\n"
          ],
          "name": "stdout"
        }
      ]
    },
    {
      "cell_type": "code",
      "metadata": {
        "colab": {
          "base_uri": "https://localhost:8080/"
        },
        "id": "Fwvz4uvfpCE2",
        "outputId": "581bef49-b637-4b37-8972-41f16b0010f2"
      },
      "source": [
        "history.history.keys()"
      ],
      "execution_count": 16,
      "outputs": [
        {
          "output_type": "execute_result",
          "data": {
            "text/plain": [
              "dict_keys(['loss', 'accuracy', 'val_loss', 'val_accuracy'])"
            ]
          },
          "metadata": {
            "tags": []
          },
          "execution_count": 16
        }
      ]
    },
    {
      "cell_type": "code",
      "metadata": {
        "colab": {
          "base_uri": "https://localhost:8080/",
          "height": 111
        },
        "id": "mZ1u33nwpCE2",
        "outputId": "2d99c425-4427-4e2b-c878-bc1d7ab6c62e"
      },
      "source": [
        "df =pd.DataFrame(history.history)\n",
        "df.head(2)"
      ],
      "execution_count": 17,
      "outputs": [
        {
          "output_type": "execute_result",
          "data": {
            "text/html": [
              "<div>\n",
              "<style scoped>\n",
              "    .dataframe tbody tr th:only-of-type {\n",
              "        vertical-align: middle;\n",
              "    }\n",
              "\n",
              "    .dataframe tbody tr th {\n",
              "        vertical-align: top;\n",
              "    }\n",
              "\n",
              "    .dataframe thead th {\n",
              "        text-align: right;\n",
              "    }\n",
              "</style>\n",
              "<table border=\"1\" class=\"dataframe\">\n",
              "  <thead>\n",
              "    <tr style=\"text-align: right;\">\n",
              "      <th></th>\n",
              "      <th>loss</th>\n",
              "      <th>accuracy</th>\n",
              "      <th>val_loss</th>\n",
              "      <th>val_accuracy</th>\n",
              "    </tr>\n",
              "  </thead>\n",
              "  <tbody>\n",
              "    <tr>\n",
              "      <th>0</th>\n",
              "      <td>1.990417</td>\n",
              "      <td>0.213222</td>\n",
              "      <td>1.795057</td>\n",
              "      <td>0.2882</td>\n",
              "    </tr>\n",
              "    <tr>\n",
              "      <th>1</th>\n",
              "      <td>1.743918</td>\n",
              "      <td>0.315667</td>\n",
              "      <td>1.663523</td>\n",
              "      <td>0.3552</td>\n",
              "    </tr>\n",
              "  </tbody>\n",
              "</table>\n",
              "</div>"
            ],
            "text/plain": [
              "       loss  accuracy  val_loss  val_accuracy\n",
              "0  1.990417  0.213222  1.795057        0.2882\n",
              "1  1.743918  0.315667  1.663523        0.3552"
            ]
          },
          "metadata": {
            "tags": []
          },
          "execution_count": 17
        }
      ]
    },
    {
      "cell_type": "code",
      "metadata": {
        "colab": {
          "base_uri": "https://localhost:8080/",
          "height": 268
        },
        "id": "9UmJj7zrpCE2",
        "outputId": "b6b0d4b3-c6a0-4abf-c6bd-04c051b08067"
      },
      "source": [
        "plt.plot(df.loss,label='Loss',c='r')\n",
        "plt.plot(df.accuracy,label='Accuracy',c='b')\n",
        "plt.legend();"
      ],
      "execution_count": 18,
      "outputs": [
        {
          "output_type": "display_data",
          "data": {
            "image/png": "[encoded data removed]",
            "text/plain": [
              "<Figure size 432x288 with 1 Axes>"
            ]
          },
          "metadata": {
            "tags": [],
            "needs_background": "light"
          }
        }
      ]
    },
    {
      "cell_type": "code",
      "metadata": {
        "colab": {
          "base_uri": "https://localhost:8080/",
          "height": 268
        },
        "id": "C6W6i0DApCE3",
        "outputId": "4c5d676b-17a2-4ace-f798-e3c6a98c5242"
      },
      "source": [
        "plt.plot(df.loss,label='Loss',c='r')\n",
        "plt.legend();"
      ],
      "execution_count": 19,
      "outputs": [
        {
          "output_type": "display_data",
          "data": {
            "image/png": "[encoded data removed]",
            "text/plain": [
              "<Figure size 432x288 with 1 Axes>"
            ]
          },
          "metadata": {
            "tags": [],
            "needs_background": "light"
          }
        }
      ]
    },
    {
      "cell_type": "code",
      "metadata": {
        "colab": {
          "base_uri": "https://localhost:8080/",
          "height": 268
        },
        "id": "dcvwik9SpCE3",
        "outputId": "049e7ca7-4e46-483e-8468-95e8bd2ed023"
      },
      "source": [
        "plt.plot(df.accuracy,label='Accuracy',c='b')\n",
        "plt.legend();"
      ],
      "execution_count": 20,
      "outputs": [
        {
          "output_type": "display_data",
          "data": {
            "image/png": "[encoded data removed]",
            "text/plain": [
              "<Figure size 432x288 with 1 Axes>"
            ]
          },
          "metadata": {
            "tags": [],
            "needs_background": "light"
          }
        }
      ]
    },
    {
      "cell_type": "code",
      "metadata": {
        "colab": {
          "base_uri": "https://localhost:8080/",
          "height": 268
        },
        "id": "LpkQhUBvpCE3",
        "outputId": "d2d4f906-9978-4fb2-b1d5-ce8e9571d545"
      },
      "source": [
        "plt.plot(df.loss,label='Training Loss',c='r')\n",
        "plt.plot(df.val_loss,label='Validation loss',c='b')\n",
        "plt.legend();"
      ],
      "execution_count": 21,
      "outputs": [
        {
          "output_type": "display_data",
          "data": {
            "image/png": "[encoded data removed]",
            "text/plain": [
              "<Figure size 432x288 with 1 Axes>"
            ]
          },
          "metadata": {
            "tags": [],
            "needs_background": "light"
          }
        }
      ]
    },
    {
      "cell_type": "code",
      "metadata": {
        "colab": {
          "base_uri": "https://localhost:8080/",
          "height": 268
        },
        "id": "Wu9ym2fwpCE4",
        "outputId": "020b9b9c-0c0c-4e11-cac0-d097b3cc20a2"
      },
      "source": [
        "plt.plot(df.accuracy,label='Training Accuracy',c='r')\n",
        "plt.plot(df.val_accuracy,label='Validation Accuracy',c='b')\n",
        "plt.legend();"
      ],
      "execution_count": 22,
      "outputs": [
        {
          "output_type": "display_data",
          "data": {
            "image/png": "[encoded data removed]",
            "text/plain": [
              "<Figure size 432x288 with 1 Axes>"
            ]
          },
          "metadata": {
            "tags": [],
            "needs_background": "light"
          }
        }
      ]
    },
    {
      "cell_type": "code",
      "metadata": {
        "colab": {
          "base_uri": "https://localhost:8080/"
        },
        "id": "S_8FAhAZpCE4",
        "outputId": "8721c755-d105-456d-d1f5-c7a358a13839"
      },
      "source": [
        "model.evaluate(X_test,y_test)"
      ],
      "execution_count": 23,
      "outputs": [
        {
          "output_type": "stream",
          "text": [
            "313/313 [==============================] - 1s 2ms/step - loss: 1.0603 - accuracy: 0.6358\n"
          ],
          "name": "stdout"
        },
        {
          "output_type": "execute_result",
          "data": {
            "text/plain": [
              "[1.0603195428848267, 0.6358000040054321]"
            ]
          },
          "metadata": {
            "tags": []
          },
          "execution_count": 23
        }
      ]
    },
    {
      "cell_type": "code",
      "metadata": {
        "colab": {
          "base_uri": "https://localhost:8080/"
        },
        "id": "0ZS0TQcZpCE5",
        "outputId": "803b1fe9-3981-4ae3-a0fa-c895ebee6620"
      },
      "source": [
        "loss_test, accuracy_test = model.evaluate(X_test,y_test)"
      ],
      "execution_count": 24,
      "outputs": [
        {
          "output_type": "stream",
          "text": [
            "313/313 [==============================] - 1s 2ms/step - loss: 1.0603 - accuracy: 0.6358\n"
          ],
          "name": "stdout"
        }
      ]
    },
    {
      "cell_type": "code",
      "metadata": {
        "colab": {
          "base_uri": "https://localhost:8080/"
        },
        "id": "Hc0oiNG5pCE5",
        "outputId": "45b917ad-fbef-4324-98ed-787230c8a2cf"
      },
      "source": [
        "print(loss_test)\n",
        "print(accuracy_test)"
      ],
      "execution_count": 25,
      "outputs": [
        {
          "output_type": "stream",
          "text": [
            "1.0603195428848267\n",
            "0.6358000040054321\n"
          ],
          "name": "stdout"
        }
      ]
    },
    {
      "cell_type": "code",
      "metadata": {
        "colab": {
          "base_uri": "https://localhost:8080/"
        },
        "id": "5T1WMW_gpCE5",
        "outputId": "aeec223b-8c48-4a1e-a4d9-017b9bfd07cd"
      },
      "source": [
        "print(y_test[123])"
      ],
      "execution_count": 38,
      "outputs": [
        {
          "output_type": "stream",
          "text": [
            "[2]\n"
          ],
          "name": "stdout"
        }
      ]
    },
    {
      "cell_type": "code",
      "metadata": {
        "colab": {
          "base_uri": "https://localhost:8080/"
        },
        "id": "2argdYV9pCE6",
        "outputId": "a9c45afa-0252-4b85-e10c-993086cb47d5"
      },
      "source": [
        "X_test.shape"
      ],
      "execution_count": 33,
      "outputs": [
        {
          "output_type": "execute_result",
          "data": {
            "text/plain": [
              "(10000, 32, 32, 3)"
            ]
          },
          "metadata": {
            "tags": []
          },
          "execution_count": 33
        }
      ]
    },
    {
      "cell_type": "code",
      "metadata": {
        "colab": {
          "base_uri": "https://localhost:8080/"
        },
        "id": "HO99p3KQpCE6",
        "outputId": "45a71064-e8ba-48e2-b676-5e649a6f4c75"
      },
      "source": [
        "X_test[123].shape"
      ],
      "execution_count": 39,
      "outputs": [
        {
          "output_type": "execute_result",
          "data": {
            "text/plain": [
              "(32, 32, 3)"
            ]
          },
          "metadata": {
            "tags": []
          },
          "execution_count": 39
        }
      ]
    },
    {
      "cell_type": "code",
      "metadata": {
        "colab": {
          "base_uri": "https://localhost:8080/"
        },
        "id": "hS5tL5appCE6",
        "outputId": "0b12dfa5-ddfb-42e3-8403-7aa3d6536e42"
      },
      "source": [
        "model.predict(X_test[123][np.newaxis,...])"
      ],
      "execution_count": 40,
      "outputs": [
        {
          "output_type": "execute_result",
          "data": {
            "text/plain": [
              "array([[0.00292534, 0.00067426, 0.54032284, 0.05911292, 0.01340835,\n",
              "        0.28926635, 0.01349625, 0.07858684, 0.00086277, 0.00134411]],\n",
              "      dtype=float32)"
            ]
          },
          "metadata": {
            "tags": []
          },
          "execution_count": 40
        }
      ]
    },
    {
      "cell_type": "code",
      "metadata": {
        "id": "lKKUpteppCE7"
      },
      "source": [
        "y_pred= model.predict(X_test[123][np.newaxis,...])"
      ],
      "execution_count": 41,
      "outputs": []
    },
    {
      "cell_type": "code",
      "metadata": {
        "colab": {
          "base_uri": "https://localhost:8080/"
        },
        "id": "iIvnHAEppCE7",
        "outputId": "ebac47d5-d415-439a-9e4e-dd3fcedd18bf"
      },
      "source": [
        "np.argmax(y_pred)"
      ],
      "execution_count": 42,
      "outputs": [
        {
          "output_type": "execute_result",
          "data": {
            "text/plain": [
              "2"
            ]
          },
          "metadata": {
            "tags": []
          },
          "execution_count": 42
        }
      ]
    },
    {
      "cell_type": "code",
      "metadata": {
        "id": "oPF7c3IMpCE7"
      },
      "source": [
        ""
      ],
      "execution_count": 31,
      "outputs": []
    }
  ]
}